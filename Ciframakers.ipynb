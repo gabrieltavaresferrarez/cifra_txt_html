{
 "cells": [
  {
   "cell_type": "code",
   "execution_count": 1,
   "id": "fdc6c716",
   "metadata": {},
   "outputs": [
    {
     "name": "stdout",
     "output_type": "stream",
     "text": [
      "[ATENÇÃO: a musica <Nome sobre todo nome> contem acorde [E]]. Verifique se está certo todas as vezes\n",
      "[ATENÇÃO: a musica <A alegria  esta no coracao medley solta o cabo da nao medley porque ele vive> contem acorde [Em]]. Verifique se está certo todas as vezes\n"
     ]
    }
   ],
   "source": [
    "import os\n",
    "import codecs\n",
    "from cifra import Cifra\n",
    "import re\n",
    "from unidecode import unidecode\n",
    "\n",
    "# Mudanças de tom da cifra devem ter a primeira linha com o formato\n",
    "# @ TOM + N\n",
    "# @ TOM - N\n",
    "\n",
    "# Nome da musica deve estar no titula do arquivo e não no conteudo\n",
    "\n",
    "header_filename = './text_sources/header.html'\n",
    "botton_filename = './text_sources/botton.html'\n",
    "\n",
    "for filename in os.listdir('cifras in'):\n",
    "   nome_musica = filename.replace('.txt', '')\n",
    "\n",
    "   with codecs.open(header_filename, 'r', 'utf-8') as file:\n",
    "      header_html = file.read().replace('[MUDAR TITULO]', nome_musica)\n",
    "   with codecs.open(botton_filename, 'r', 'utf-8') as file:\n",
    "      botton_html = file.read()\n",
    "\n",
    "   string_fileName = r'cifras in/'+ str(filename)\n",
    "   with codecs.open(string_fileName, 'r', 'utf-8') as file:\n",
    "      cifra_linhas = file.read()\n",
    "      primeira_linha = cifra_linhas.split('\\n')[0]\n",
    "      if len(primeira_linha) > 0 and '@' in primeira_linha[0] and 'TOM' in primeira_linha: #primeira linha tem modulação de tom\n",
    "         if '+' in primeira_linha:\n",
    "            modulacao =int(re.findall(r'\\d+', primeira_linha)[0])\n",
    "            cifra_linhas = cifra_linhas.replace(primeira_linha+'\\n', '')\n",
    "            cifra = Cifra(cifra_linhas, nome_musica)\n",
    "            cifra += modulacao\n",
    "         elif '-' in primeira_linha:\n",
    "            modulacao = int(re.findall(r'\\d+', primeira_linha)[0])\n",
    "            cifra_linhas = cifra_linhas.replace(primeira_linha+'\\n', '')\n",
    "            cifra = Cifra(cifra_linhas, nome_musica)\n",
    "            cifra -= modulacao\n",
    "      else:\n",
    "         cifra = Cifra(cifra_linhas, nome_musica)\n",
    "         \n",
    "\n",
    "   cifra_out_filename = 'cifras out/' + filename.replace('.txt', '.html')\n",
    "   with codecs.open(unidecode(cifra_out_filename), 'w', 'utf-8') as file:\n",
    "      file.write(header_html)\n",
    "      file.write(cifra.export_html())\n",
    "      file.write(botton_html)"
   ]
  },
  {
   "cell_type": "code",
   "execution_count": null,
   "id": "883814fa",
   "metadata": {},
   "outputs": [],
   "source": []
  },
  {
   "cell_type": "code",
   "execution_count": null,
   "id": "c36bbc1f",
   "metadata": {},
   "outputs": [],
   "source": []
  }
 ],
 "metadata": {
  "kernelspec": {
   "display_name": "Python 3",
   "language": "python",
   "name": "python3"
  },
  "language_info": {
   "codemirror_mode": {
    "name": "ipython",
    "version": 3
   },
   "file_extension": ".py",
   "mimetype": "text/x-python",
   "name": "python",
   "nbconvert_exporter": "python",
   "pygments_lexer": "ipython3",
   "version": "3.10.12"
  }
 },
 "nbformat": 4,
 "nbformat_minor": 5
}
