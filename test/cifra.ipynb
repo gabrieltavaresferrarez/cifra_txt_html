{
 "cells": [
  {
   "cell_type": "code",
   "execution_count": 1,
   "metadata": {},
   "outputs": [],
   "source": [
    "from cifra import Cifra"
   ]
  },
  {
   "cell_type": "code",
   "execution_count": 3,
   "metadata": {},
   "outputs": [
    {
     "data": {
      "text/plain": [
       "[[],\n",
       " [Dm, '  ', C, '  ', Bb, '  ', A, '  '],\n",
       " ['Jericó,', ' ', 'Jericó'],\n",
       " [],\n",
       " [],\n",
       " [' ', Dm],\n",
       " ['Vem', ' ', 'com', ' ', 'Josué', ' ', 'lutar', ' ', 'em', ' ', 'Jericó'],\n",
       " [' ', C, '          ', A],\n",
       " ['Jericó,', ' ', 'Jericó'],\n",
       " [' ', Dm],\n",
       " ['Vem', ' ', 'com', ' ', 'Josué', ' ', 'lutar', ' ', 'em', ' ', 'Jericó'],\n",
       " ['    ', Bb, '       ', C, '    ', Dm, ' '],\n",
       " [Em, ' ', 'as', ' ', 'muralhas', ' ', 'ruirão'],\n",
       " [],\n",
       " [],\n",
       " [' ', Dm, '                      ', C, ' '],\n",
       " ['Suba', ' ', 'os', ' ', 'montes', ' ', 'devagar'],\n",
       " [' ', Dm, '                      ', C, ' '],\n",
       " ['Que', ' ', 'o', ' ', 'senhor', ' ', 'vai', ' ', 'guerrear'],\n",
       " [' ', Dm, '                       '],\n",
       " ['Cerquem', ' ', 'os', ' ', 'muros', ' ', 'para', ' ', 'mim'],\n",
       " ['      ', Bb, '        ', C, '        ', Dm, ' '],\n",
       " ['Pois,',\n",
       "  ' ',\n",
       "  'Jericó',\n",
       "  ' ',\n",
       "  'chegou',\n",
       "  ' ',\n",
       "  'ao',\n",
       "  ' ',\n",
       "  'fim,',\n",
       "  ' ',\n",
       "  'vem,',\n",
       "  ' ',\n",
       "  'vem,',\n",
       "  ' ',\n",
       "  'vem'],\n",
       " [],\n",
       " [],\n",
       " [' ', Dm, '                  ', C, ' '],\n",
       " ['As', ' ', 'trombetas', ' ', 'soarão'],\n",
       " [' ', Dm, '                   ', C, ' '],\n",
       " ['Abalando', ' ', 'o', ' ', 'céu', ' ', 'e', ' ', 'o', ' ', 'chão'],\n",
       " [' ', Dm, '                    '],\n",
       " ['Cerquem', ' ', 'os', ' ', 'muros', ' ', 'para', ' ', 'mim'],\n",
       " ['      ', Bb, '        ', C, '        ', Dm, ' '],\n",
       " ['Pois,',\n",
       "  ' ',\n",
       "  'Jericó',\n",
       "  ' ',\n",
       "  'chegou',\n",
       "  ' ',\n",
       "  'ao',\n",
       "  ' ',\n",
       "  'fim,',\n",
       "  ' ',\n",
       "  'vem,',\n",
       "  ' ',\n",
       "  'vem,',\n",
       "  ' ',\n",
       "  'vem']]"
      ]
     },
     "execution_count": 3,
     "metadata": {},
     "output_type": "execute_result"
    }
   ],
   "source": [
    "with open('/Users/gabrieltavares/Documents/ciframaker/cifras/Vem com Josué.txt', 'r') as file:\n",
    "    str_cifra = file.read()\n",
    "cifra = Cifra(str_cifra, 'Musica Teste')\n",
    "cifra.list_linhas"
   ]
  }
 ],
 "metadata": {
  "kernelspec": {
   "display_name": "base",
   "language": "python",
   "name": "python3"
  },
  "language_info": {
   "codemirror_mode": {
    "name": "ipython",
    "version": 3
   },
   "file_extension": ".py",
   "mimetype": "text/x-python",
   "name": "python",
   "nbconvert_exporter": "python",
   "pygments_lexer": "ipython3",
   "version": "3.10.12"
  },
  "orig_nbformat": 4
 },
 "nbformat": 4,
 "nbformat_minor": 2
}
